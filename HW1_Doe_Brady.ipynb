{
 "cells": [
  {
   "cell_type": "code",
   "execution_count": 13,
   "id": "d07dfc27",
   "metadata": {},
   "outputs": [
    {
     "name": "stdout",
     "output_type": "stream",
     "text": [
      "[65, 60, 55, 50, 45, 40, 35, 30]\n"
     ]
    }
   ],
   "source": [
    "nums = list(range(30,61,5))\n",
    "nums.insert(7,65)\n",
    "print(nums[::-1])"
   ]
  },
  {
   "cell_type": "code",
   "execution_count": 27,
   "id": "134b55ea",
   "metadata": {},
   "outputs": [
    {
     "name": "stdout",
     "output_type": "stream",
     "text": [
      "[0, 1, 2, 3, 4, 5, 6, 7, 8, 9, 10, 11, 12, 13, 14, 15, 16, 17, 18, 19, 20]\n"
     ]
    },
    {
     "data": {
      "text/plain": [
       "210"
      ]
     },
     "execution_count": 27,
     "metadata": {},
     "output_type": "execute_result"
    }
   ],
   "source": [
    "nums2 = list(range(0,0,1))\n",
    "nums2.append(0)\n",
    "nums2.append(1)\n",
    "nums2.append(2)\n",
    "nums2.append(3)\n",
    "nums2.append(4)\n",
    "nums2.append(5)\n",
    "nums2.append(6)\n",
    "nums2.append(7)\n",
    "nums2.append(8)\n",
    "nums2.append(9)\n",
    "nums2.append(10)\n",
    "nums2.append(11)\n",
    "nums2.append(12)\n",
    "nums2.append(13)\n",
    "nums2.append(14)\n",
    "nums2.append(15)\n",
    "nums2.append(16)\n",
    "nums2.append(17)\n",
    "nums2.append(18)\n",
    "nums2.append(19)\n",
    "nums2.append(20)\n",
    "nums2.remove(0)\n",
    "nums2.append(0)\n",
    "nums2.sort()\n",
    "print(nums2)\n",
    "sum(nums2)"
   ]
  },
  {
   "cell_type": "code",
   "execution_count": 40,
   "id": "67f8deaf",
   "metadata": {},
   "outputs": [
    {
     "name": "stdout",
     "output_type": "stream",
     "text": [
      "when sunny let us play\n",
      "when rainy let us watch tv\n",
      "when cloudy let us walk\n",
      "when snowy let us ski\n"
     ]
    }
   ],
   "source": [
    "keys = ['sunny let us play','rainy let us watch tv','cloudy let us walk','snowy let us ski']\n",
    "values = ['play','watch tv','walk','ski']\n",
    "for keys in keys:\n",
    "\n",
    "    print('when',keys)"
   ]
  },
  {
   "cell_type": "code",
   "execution_count": null,
   "id": "769dc5cf",
   "metadata": {},
   "outputs": [],
   "source": []
  }
 ],
 "metadata": {
  "kernelspec": {
   "display_name": "Python 3 (ipykernel)",
   "language": "python",
   "name": "python3"
  },
  "language_info": {
   "codemirror_mode": {
    "name": "ipython",
    "version": 3
   },
   "file_extension": ".py",
   "mimetype": "text/x-python",
   "name": "python",
   "nbconvert_exporter": "python",
   "pygments_lexer": "ipython3",
   "version": "3.9.13"
  }
 },
 "nbformat": 4,
 "nbformat_minor": 5
}
